{
 "cells": [
  {
   "cell_type": "code",
   "execution_count": 1,
   "id": "b6ae29eb-41ac-4793-80d6-50814477a567",
   "metadata": {},
   "outputs": [
    {
     "name": "stdout",
     "output_type": "stream",
     "text": [
      "id                              int64\n",
      "title                          object\n",
      "release_date                   object\n",
      "developer                      object\n",
      "publisher                      object\n",
      "genres                         object\n",
      "multiplayer_or_singleplayer    object\n",
      "price                          object\n",
      "percent_positive               object\n",
      "win_support                     int64\n",
      "mac_support                     int64\n",
      "lin_support                     int64\n",
      "dtype: object\n"
     ]
    }
   ],
   "source": [
    "import pandas as pd\n",
    "# Read a small chunk of the file to inspect column data types\n",
    "games = pd.read_csv('games.csv', encoding='ISO-8859-1')\n",
    "print(games.dtypes)"
   ]
  },
  {
   "cell_type": "code",
   "execution_count": 2,
   "id": "64406408-ee33-427c-8c97-f5fa3705ba62",
   "metadata": {},
   "outputs": [
    {
     "data": {
      "text/plain": [
       "id                                0\n",
       "title                             0\n",
       "release_date                      0\n",
       "developer                         0\n",
       "publisher                         7\n",
       "genres                            0\n",
       "multiplayer_or_singleplayer       0\n",
       "price                             0\n",
       "percent_positive               1426\n",
       "win_support                       0\n",
       "mac_support                       0\n",
       "lin_support                       0\n",
       "dtype: int64"
      ]
     },
     "execution_count": 2,
     "metadata": {},
     "output_type": "execute_result"
    }
   ],
   "source": [
    "games.isnull().sum()"
   ]
  },
  {
   "cell_type": "code",
   "execution_count": 3,
   "id": "db74a415-6e37-4bc6-94a3-66fbed7893f2",
   "metadata": {},
   "outputs": [
    {
     "data": {
      "text/plain": [
       "Index(['id', 'title', 'release_date', 'developer', 'publisher', 'genres',\n",
       "       'multiplayer_or_singleplayer', 'price', 'percent_positive',\n",
       "       'win_support', 'mac_support', 'lin_support'],\n",
       "      dtype='object')"
      ]
     },
     "execution_count": 3,
     "metadata": {},
     "output_type": "execute_result"
    }
   ],
   "source": [
    "games.columns"
   ]
  },
  {
   "cell_type": "code",
   "execution_count": 4,
   "id": "3816bf4b-d7ee-4523-9510-9e7a20fa347e",
   "metadata": {},
   "outputs": [],
   "source": [
    "games=games[['id', 'title', 'developer', 'genres']]"
   ]
  },
  {
   "cell_type": "code",
   "execution_count": 5,
   "id": "b769c823-2caa-417a-a1b7-a22787c3900c",
   "metadata": {},
   "outputs": [
    {
     "data": {
      "text/html": [
       "<div>\n",
       "<style scoped>\n",
       "    .dataframe tbody tr th:only-of-type {\n",
       "        vertical-align: middle;\n",
       "    }\n",
       "\n",
       "    .dataframe tbody tr th {\n",
       "        vertical-align: top;\n",
       "    }\n",
       "\n",
       "    .dataframe thead th {\n",
       "        text-align: right;\n",
       "    }\n",
       "</style>\n",
       "<table border=\"1\" class=\"dataframe\">\n",
       "  <thead>\n",
       "    <tr style=\"text-align: right;\">\n",
       "      <th></th>\n",
       "      <th>id</th>\n",
       "      <th>title</th>\n",
       "      <th>developer</th>\n",
       "      <th>genres</th>\n",
       "    </tr>\n",
       "  </thead>\n",
       "  <tbody>\n",
       "    <tr>\n",
       "      <th>0</th>\n",
       "      <td>1</td>\n",
       "      <td>Counter-Strike: Global Offensive</td>\n",
       "      <td>Valve;Hidden Path Entertainment</td>\n",
       "      <td>Action;Free to Play</td>\n",
       "    </tr>\n",
       "    <tr>\n",
       "      <th>1</th>\n",
       "      <td>2</td>\n",
       "      <td>Dota 2</td>\n",
       "      <td>Valve</td>\n",
       "      <td>Action;Free to Play;Strategy</td>\n",
       "    </tr>\n",
       "    <tr>\n",
       "      <th>2</th>\n",
       "      <td>3</td>\n",
       "      <td>Dead by Daylight</td>\n",
       "      <td>Behaviour Digital Inc.</td>\n",
       "      <td>Action</td>\n",
       "    </tr>\n",
       "    <tr>\n",
       "      <th>3</th>\n",
       "      <td>4</td>\n",
       "      <td>Warframe</td>\n",
       "      <td>Digital Extremes</td>\n",
       "      <td>Action;Free to Play</td>\n",
       "    </tr>\n",
       "    <tr>\n",
       "      <th>4</th>\n",
       "      <td>5</td>\n",
       "      <td>War Thunder</td>\n",
       "      <td>Gaijin Entertainment</td>\n",
       "      <td>Action;Free to Play;Massively Multiplayer;Simu...</td>\n",
       "    </tr>\n",
       "    <tr>\n",
       "      <th>...</th>\n",
       "      <td>...</td>\n",
       "      <td>...</td>\n",
       "      <td>...</td>\n",
       "      <td>...</td>\n",
       "    </tr>\n",
       "    <tr>\n",
       "      <th>18583</th>\n",
       "      <td>18584</td>\n",
       "      <td>Malkia</td>\n",
       "      <td>Sports interactive</td>\n",
       "      <td>Indie</td>\n",
       "    </tr>\n",
       "    <tr>\n",
       "      <th>18584</th>\n",
       "      <td>18585</td>\n",
       "      <td>Rise</td>\n",
       "      <td>New State</td>\n",
       "      <td>Action;Indie</td>\n",
       "    </tr>\n",
       "    <tr>\n",
       "      <th>18585</th>\n",
       "      <td>18586</td>\n",
       "      <td>MERCS</td>\n",
       "      <td>Munchkin's Lair</td>\n",
       "      <td>Indie;Strategy;Early Access</td>\n",
       "    </tr>\n",
       "    <tr>\n",
       "      <th>18586</th>\n",
       "      <td>18587</td>\n",
       "      <td>Evil Genius</td>\n",
       "      <td>Elixir Studios</td>\n",
       "      <td>Strategy</td>\n",
       "    </tr>\n",
       "    <tr>\n",
       "      <th>18587</th>\n",
       "      <td>18588</td>\n",
       "      <td>Measurement Problem</td>\n",
       "      <td>Alchemist Studio</td>\n",
       "      <td>Adventure;Indie</td>\n",
       "    </tr>\n",
       "  </tbody>\n",
       "</table>\n",
       "<p>18588 rows × 4 columns</p>\n",
       "</div>"
      ],
      "text/plain": [
       "          id                             title  \\\n",
       "0          1  Counter-Strike: Global Offensive   \n",
       "1          2                            Dota 2   \n",
       "2          3                  Dead by Daylight   \n",
       "3          4                          Warframe   \n",
       "4          5                       War Thunder   \n",
       "...      ...                               ...   \n",
       "18583  18584                            Malkia   \n",
       "18584  18585                              Rise   \n",
       "18585  18586                             MERCS   \n",
       "18586  18587                       Evil Genius   \n",
       "18587  18588               Measurement Problem   \n",
       "\n",
       "                             developer  \\\n",
       "0      Valve;Hidden Path Entertainment   \n",
       "1                                Valve   \n",
       "2               Behaviour Digital Inc.   \n",
       "3                     Digital Extremes   \n",
       "4                 Gaijin Entertainment   \n",
       "...                                ...   \n",
       "18583               Sports interactive   \n",
       "18584                        New State   \n",
       "18585                  Munchkin's Lair   \n",
       "18586                   Elixir Studios   \n",
       "18587                 Alchemist Studio   \n",
       "\n",
       "                                                  genres  \n",
       "0                                    Action;Free to Play  \n",
       "1                           Action;Free to Play;Strategy  \n",
       "2                                                 Action  \n",
       "3                                    Action;Free to Play  \n",
       "4      Action;Free to Play;Massively Multiplayer;Simu...  \n",
       "...                                                  ...  \n",
       "18583                                              Indie  \n",
       "18584                                       Action;Indie  \n",
       "18585                        Indie;Strategy;Early Access  \n",
       "18586                                           Strategy  \n",
       "18587                                    Adventure;Indie  \n",
       "\n",
       "[18588 rows x 4 columns]"
      ]
     },
     "execution_count": 5,
     "metadata": {},
     "output_type": "execute_result"
    }
   ],
   "source": [
    "games"
   ]
  },
  {
   "cell_type": "code",
   "execution_count": 6,
   "id": "7709ddc8-958f-4717-805a-63a77e742d14",
   "metadata": {},
   "outputs": [],
   "source": [
    "games['tags'] = games['developer']+games['genres']"
   ]
  },
  {
   "cell_type": "code",
   "execution_count": 7,
   "id": "615585a0-761f-4382-b84f-1ef77758fe99",
   "metadata": {},
   "outputs": [
    {
     "data": {
      "text/html": [
       "<div>\n",
       "<style scoped>\n",
       "    .dataframe tbody tr th:only-of-type {\n",
       "        vertical-align: middle;\n",
       "    }\n",
       "\n",
       "    .dataframe tbody tr th {\n",
       "        vertical-align: top;\n",
       "    }\n",
       "\n",
       "    .dataframe thead th {\n",
       "        text-align: right;\n",
       "    }\n",
       "</style>\n",
       "<table border=\"1\" class=\"dataframe\">\n",
       "  <thead>\n",
       "    <tr style=\"text-align: right;\">\n",
       "      <th></th>\n",
       "      <th>id</th>\n",
       "      <th>title</th>\n",
       "      <th>developer</th>\n",
       "      <th>genres</th>\n",
       "      <th>tags</th>\n",
       "    </tr>\n",
       "  </thead>\n",
       "  <tbody>\n",
       "    <tr>\n",
       "      <th>0</th>\n",
       "      <td>1</td>\n",
       "      <td>Counter-Strike: Global Offensive</td>\n",
       "      <td>Valve;Hidden Path Entertainment</td>\n",
       "      <td>Action;Free to Play</td>\n",
       "      <td>Valve;Hidden Path EntertainmentAction;Free to ...</td>\n",
       "    </tr>\n",
       "    <tr>\n",
       "      <th>1</th>\n",
       "      <td>2</td>\n",
       "      <td>Dota 2</td>\n",
       "      <td>Valve</td>\n",
       "      <td>Action;Free to Play;Strategy</td>\n",
       "      <td>ValveAction;Free to Play;Strategy</td>\n",
       "    </tr>\n",
       "    <tr>\n",
       "      <th>2</th>\n",
       "      <td>3</td>\n",
       "      <td>Dead by Daylight</td>\n",
       "      <td>Behaviour Digital Inc.</td>\n",
       "      <td>Action</td>\n",
       "      <td>Behaviour Digital Inc.Action</td>\n",
       "    </tr>\n",
       "    <tr>\n",
       "      <th>3</th>\n",
       "      <td>4</td>\n",
       "      <td>Warframe</td>\n",
       "      <td>Digital Extremes</td>\n",
       "      <td>Action;Free to Play</td>\n",
       "      <td>Digital ExtremesAction;Free to Play</td>\n",
       "    </tr>\n",
       "    <tr>\n",
       "      <th>4</th>\n",
       "      <td>5</td>\n",
       "      <td>War Thunder</td>\n",
       "      <td>Gaijin Entertainment</td>\n",
       "      <td>Action;Free to Play;Massively Multiplayer;Simu...</td>\n",
       "      <td>Gaijin EntertainmentAction;Free to Play;Massiv...</td>\n",
       "    </tr>\n",
       "    <tr>\n",
       "      <th>...</th>\n",
       "      <td>...</td>\n",
       "      <td>...</td>\n",
       "      <td>...</td>\n",
       "      <td>...</td>\n",
       "      <td>...</td>\n",
       "    </tr>\n",
       "    <tr>\n",
       "      <th>18583</th>\n",
       "      <td>18584</td>\n",
       "      <td>Malkia</td>\n",
       "      <td>Sports interactive</td>\n",
       "      <td>Indie</td>\n",
       "      <td>Sports interactiveIndie</td>\n",
       "    </tr>\n",
       "    <tr>\n",
       "      <th>18584</th>\n",
       "      <td>18585</td>\n",
       "      <td>Rise</td>\n",
       "      <td>New State</td>\n",
       "      <td>Action;Indie</td>\n",
       "      <td>New StateAction;Indie</td>\n",
       "    </tr>\n",
       "    <tr>\n",
       "      <th>18585</th>\n",
       "      <td>18586</td>\n",
       "      <td>MERCS</td>\n",
       "      <td>Munchkin's Lair</td>\n",
       "      <td>Indie;Strategy;Early Access</td>\n",
       "      <td>Munchkin's LairIndie;Strategy;Early Access</td>\n",
       "    </tr>\n",
       "    <tr>\n",
       "      <th>18586</th>\n",
       "      <td>18587</td>\n",
       "      <td>Evil Genius</td>\n",
       "      <td>Elixir Studios</td>\n",
       "      <td>Strategy</td>\n",
       "      <td>Elixir StudiosStrategy</td>\n",
       "    </tr>\n",
       "    <tr>\n",
       "      <th>18587</th>\n",
       "      <td>18588</td>\n",
       "      <td>Measurement Problem</td>\n",
       "      <td>Alchemist Studio</td>\n",
       "      <td>Adventure;Indie</td>\n",
       "      <td>Alchemist StudioAdventure;Indie</td>\n",
       "    </tr>\n",
       "  </tbody>\n",
       "</table>\n",
       "<p>18588 rows × 5 columns</p>\n",
       "</div>"
      ],
      "text/plain": [
       "          id                             title  \\\n",
       "0          1  Counter-Strike: Global Offensive   \n",
       "1          2                            Dota 2   \n",
       "2          3                  Dead by Daylight   \n",
       "3          4                          Warframe   \n",
       "4          5                       War Thunder   \n",
       "...      ...                               ...   \n",
       "18583  18584                            Malkia   \n",
       "18584  18585                              Rise   \n",
       "18585  18586                             MERCS   \n",
       "18586  18587                       Evil Genius   \n",
       "18587  18588               Measurement Problem   \n",
       "\n",
       "                             developer  \\\n",
       "0      Valve;Hidden Path Entertainment   \n",
       "1                                Valve   \n",
       "2               Behaviour Digital Inc.   \n",
       "3                     Digital Extremes   \n",
       "4                 Gaijin Entertainment   \n",
       "...                                ...   \n",
       "18583               Sports interactive   \n",
       "18584                        New State   \n",
       "18585                  Munchkin's Lair   \n",
       "18586                   Elixir Studios   \n",
       "18587                 Alchemist Studio   \n",
       "\n",
       "                                                  genres  \\\n",
       "0                                    Action;Free to Play   \n",
       "1                           Action;Free to Play;Strategy   \n",
       "2                                                 Action   \n",
       "3                                    Action;Free to Play   \n",
       "4      Action;Free to Play;Massively Multiplayer;Simu...   \n",
       "...                                                  ...   \n",
       "18583                                              Indie   \n",
       "18584                                       Action;Indie   \n",
       "18585                        Indie;Strategy;Early Access   \n",
       "18586                                           Strategy   \n",
       "18587                                    Adventure;Indie   \n",
       "\n",
       "                                                    tags  \n",
       "0      Valve;Hidden Path EntertainmentAction;Free to ...  \n",
       "1                      ValveAction;Free to Play;Strategy  \n",
       "2                           Behaviour Digital Inc.Action  \n",
       "3                    Digital ExtremesAction;Free to Play  \n",
       "4      Gaijin EntertainmentAction;Free to Play;Massiv...  \n",
       "...                                                  ...  \n",
       "18583                            Sports interactiveIndie  \n",
       "18584                              New StateAction;Indie  \n",
       "18585         Munchkin's LairIndie;Strategy;Early Access  \n",
       "18586                             Elixir StudiosStrategy  \n",
       "18587                    Alchemist StudioAdventure;Indie  \n",
       "\n",
       "[18588 rows x 5 columns]"
      ]
     },
     "execution_count": 7,
     "metadata": {},
     "output_type": "execute_result"
    }
   ],
   "source": [
    "games"
   ]
  },
  {
   "cell_type": "code",
   "execution_count": 8,
   "id": "82f0bf5f-17ea-440d-a064-87a7b8555358",
   "metadata": {},
   "outputs": [],
   "source": [
    "new_data  = games.drop(columns=['developer', 'genres'])"
   ]
  },
  {
   "cell_type": "code",
   "execution_count": 9,
   "id": "1a56939e-9066-4c20-b1e9-a57b62454959",
   "metadata": {},
   "outputs": [
    {
     "data": {
      "text/html": [
       "<div>\n",
       "<style scoped>\n",
       "    .dataframe tbody tr th:only-of-type {\n",
       "        vertical-align: middle;\n",
       "    }\n",
       "\n",
       "    .dataframe tbody tr th {\n",
       "        vertical-align: top;\n",
       "    }\n",
       "\n",
       "    .dataframe thead th {\n",
       "        text-align: right;\n",
       "    }\n",
       "</style>\n",
       "<table border=\"1\" class=\"dataframe\">\n",
       "  <thead>\n",
       "    <tr style=\"text-align: right;\">\n",
       "      <th></th>\n",
       "      <th>id</th>\n",
       "      <th>title</th>\n",
       "      <th>tags</th>\n",
       "    </tr>\n",
       "  </thead>\n",
       "  <tbody>\n",
       "    <tr>\n",
       "      <th>0</th>\n",
       "      <td>1</td>\n",
       "      <td>Counter-Strike: Global Offensive</td>\n",
       "      <td>Valve;Hidden Path EntertainmentAction;Free to ...</td>\n",
       "    </tr>\n",
       "    <tr>\n",
       "      <th>1</th>\n",
       "      <td>2</td>\n",
       "      <td>Dota 2</td>\n",
       "      <td>ValveAction;Free to Play;Strategy</td>\n",
       "    </tr>\n",
       "    <tr>\n",
       "      <th>2</th>\n",
       "      <td>3</td>\n",
       "      <td>Dead by Daylight</td>\n",
       "      <td>Behaviour Digital Inc.Action</td>\n",
       "    </tr>\n",
       "    <tr>\n",
       "      <th>3</th>\n",
       "      <td>4</td>\n",
       "      <td>Warframe</td>\n",
       "      <td>Digital ExtremesAction;Free to Play</td>\n",
       "    </tr>\n",
       "    <tr>\n",
       "      <th>4</th>\n",
       "      <td>5</td>\n",
       "      <td>War Thunder</td>\n",
       "      <td>Gaijin EntertainmentAction;Free to Play;Massiv...</td>\n",
       "    </tr>\n",
       "    <tr>\n",
       "      <th>...</th>\n",
       "      <td>...</td>\n",
       "      <td>...</td>\n",
       "      <td>...</td>\n",
       "    </tr>\n",
       "    <tr>\n",
       "      <th>18583</th>\n",
       "      <td>18584</td>\n",
       "      <td>Malkia</td>\n",
       "      <td>Sports interactiveIndie</td>\n",
       "    </tr>\n",
       "    <tr>\n",
       "      <th>18584</th>\n",
       "      <td>18585</td>\n",
       "      <td>Rise</td>\n",
       "      <td>New StateAction;Indie</td>\n",
       "    </tr>\n",
       "    <tr>\n",
       "      <th>18585</th>\n",
       "      <td>18586</td>\n",
       "      <td>MERCS</td>\n",
       "      <td>Munchkin's LairIndie;Strategy;Early Access</td>\n",
       "    </tr>\n",
       "    <tr>\n",
       "      <th>18586</th>\n",
       "      <td>18587</td>\n",
       "      <td>Evil Genius</td>\n",
       "      <td>Elixir StudiosStrategy</td>\n",
       "    </tr>\n",
       "    <tr>\n",
       "      <th>18587</th>\n",
       "      <td>18588</td>\n",
       "      <td>Measurement Problem</td>\n",
       "      <td>Alchemist StudioAdventure;Indie</td>\n",
       "    </tr>\n",
       "  </tbody>\n",
       "</table>\n",
       "<p>18588 rows × 3 columns</p>\n",
       "</div>"
      ],
      "text/plain": [
       "          id                             title  \\\n",
       "0          1  Counter-Strike: Global Offensive   \n",
       "1          2                            Dota 2   \n",
       "2          3                  Dead by Daylight   \n",
       "3          4                          Warframe   \n",
       "4          5                       War Thunder   \n",
       "...      ...                               ...   \n",
       "18583  18584                            Malkia   \n",
       "18584  18585                              Rise   \n",
       "18585  18586                             MERCS   \n",
       "18586  18587                       Evil Genius   \n",
       "18587  18588               Measurement Problem   \n",
       "\n",
       "                                                    tags  \n",
       "0      Valve;Hidden Path EntertainmentAction;Free to ...  \n",
       "1                      ValveAction;Free to Play;Strategy  \n",
       "2                           Behaviour Digital Inc.Action  \n",
       "3                    Digital ExtremesAction;Free to Play  \n",
       "4      Gaijin EntertainmentAction;Free to Play;Massiv...  \n",
       "...                                                  ...  \n",
       "18583                            Sports interactiveIndie  \n",
       "18584                              New StateAction;Indie  \n",
       "18585         Munchkin's LairIndie;Strategy;Early Access  \n",
       "18586                             Elixir StudiosStrategy  \n",
       "18587                    Alchemist StudioAdventure;Indie  \n",
       "\n",
       "[18588 rows x 3 columns]"
      ]
     },
     "execution_count": 9,
     "metadata": {},
     "output_type": "execute_result"
    }
   ],
   "source": [
    "new_data"
   ]
  },
  {
   "cell_type": "code",
   "execution_count": 10,
   "id": "d60c54c5-204d-47d0-b608-00800949728c",
   "metadata": {},
   "outputs": [],
   "source": [
    "from sklearn.feature_extraction.text import CountVectorizer"
   ]
  },
  {
   "cell_type": "code",
   "execution_count": 11,
   "id": "43bae76b-e118-441b-88f4-b27c4aba2c1b",
   "metadata": {},
   "outputs": [],
   "source": [
    "cv=CountVectorizer(max_features=10000, stop_words='english')"
   ]
  },
  {
   "cell_type": "code",
   "execution_count": 12,
   "id": "5081238e-a1f3-416b-bec7-d0d3909c4eb6",
   "metadata": {},
   "outputs": [
    {
     "data": {
      "text/html": [
       "<style>#sk-container-id-1 {color: black;background-color: white;}#sk-container-id-1 pre{padding: 0;}#sk-container-id-1 div.sk-toggleable {background-color: white;}#sk-container-id-1 label.sk-toggleable__label {cursor: pointer;display: block;width: 100%;margin-bottom: 0;padding: 0.3em;box-sizing: border-box;text-align: center;}#sk-container-id-1 label.sk-toggleable__label-arrow:before {content: \"▸\";float: left;margin-right: 0.25em;color: #696969;}#sk-container-id-1 label.sk-toggleable__label-arrow:hover:before {color: black;}#sk-container-id-1 div.sk-estimator:hover label.sk-toggleable__label-arrow:before {color: black;}#sk-container-id-1 div.sk-toggleable__content {max-height: 0;max-width: 0;overflow: hidden;text-align: left;background-color: #f0f8ff;}#sk-container-id-1 div.sk-toggleable__content pre {margin: 0.2em;color: black;border-radius: 0.25em;background-color: #f0f8ff;}#sk-container-id-1 input.sk-toggleable__control:checked~div.sk-toggleable__content {max-height: 200px;max-width: 100%;overflow: auto;}#sk-container-id-1 input.sk-toggleable__control:checked~label.sk-toggleable__label-arrow:before {content: \"▾\";}#sk-container-id-1 div.sk-estimator input.sk-toggleable__control:checked~label.sk-toggleable__label {background-color: #d4ebff;}#sk-container-id-1 div.sk-label input.sk-toggleable__control:checked~label.sk-toggleable__label {background-color: #d4ebff;}#sk-container-id-1 input.sk-hidden--visually {border: 0;clip: rect(1px 1px 1px 1px);clip: rect(1px, 1px, 1px, 1px);height: 1px;margin: -1px;overflow: hidden;padding: 0;position: absolute;width: 1px;}#sk-container-id-1 div.sk-estimator {font-family: monospace;background-color: #f0f8ff;border: 1px dotted black;border-radius: 0.25em;box-sizing: border-box;margin-bottom: 0.5em;}#sk-container-id-1 div.sk-estimator:hover {background-color: #d4ebff;}#sk-container-id-1 div.sk-parallel-item::after {content: \"\";width: 100%;border-bottom: 1px solid gray;flex-grow: 1;}#sk-container-id-1 div.sk-label:hover label.sk-toggleable__label {background-color: #d4ebff;}#sk-container-id-1 div.sk-serial::before {content: \"\";position: absolute;border-left: 1px solid gray;box-sizing: border-box;top: 0;bottom: 0;left: 50%;z-index: 0;}#sk-container-id-1 div.sk-serial {display: flex;flex-direction: column;align-items: center;background-color: white;padding-right: 0.2em;padding-left: 0.2em;position: relative;}#sk-container-id-1 div.sk-item {position: relative;z-index: 1;}#sk-container-id-1 div.sk-parallel {display: flex;align-items: stretch;justify-content: center;background-color: white;position: relative;}#sk-container-id-1 div.sk-item::before, #sk-container-id-1 div.sk-parallel-item::before {content: \"\";position: absolute;border-left: 1px solid gray;box-sizing: border-box;top: 0;bottom: 0;left: 50%;z-index: -1;}#sk-container-id-1 div.sk-parallel-item {display: flex;flex-direction: column;z-index: 1;position: relative;background-color: white;}#sk-container-id-1 div.sk-parallel-item:first-child::after {align-self: flex-end;width: 50%;}#sk-container-id-1 div.sk-parallel-item:last-child::after {align-self: flex-start;width: 50%;}#sk-container-id-1 div.sk-parallel-item:only-child::after {width: 0;}#sk-container-id-1 div.sk-dashed-wrapped {border: 1px dashed gray;margin: 0 0.4em 0.5em 0.4em;box-sizing: border-box;padding-bottom: 0.4em;background-color: white;}#sk-container-id-1 div.sk-label label {font-family: monospace;font-weight: bold;display: inline-block;line-height: 1.2em;}#sk-container-id-1 div.sk-label-container {text-align: center;}#sk-container-id-1 div.sk-container {/* jupyter's `normalize.less` sets `[hidden] { display: none; }` but bootstrap.min.css set `[hidden] { display: none !important; }` so we also need the `!important` here to be able to override the default hidden behavior on the sphinx rendered scikit-learn.org. See: https://github.com/scikit-learn/scikit-learn/issues/21755 */display: inline-block !important;position: relative;}#sk-container-id-1 div.sk-text-repr-fallback {display: none;}</style><div id=\"sk-container-id-1\" class=\"sk-top-container\"><div class=\"sk-text-repr-fallback\"><pre>CountVectorizer(max_features=10000, stop_words=&#x27;english&#x27;)</pre><b>In a Jupyter environment, please rerun this cell to show the HTML representation or trust the notebook. <br />On GitHub, the HTML representation is unable to render, please try loading this page with nbviewer.org.</b></div><div class=\"sk-container\" hidden><div class=\"sk-item\"><div class=\"sk-estimator sk-toggleable\"><input class=\"sk-toggleable__control sk-hidden--visually\" id=\"sk-estimator-id-1\" type=\"checkbox\" checked><label for=\"sk-estimator-id-1\" class=\"sk-toggleable__label sk-toggleable__label-arrow\">CountVectorizer</label><div class=\"sk-toggleable__content\"><pre>CountVectorizer(max_features=10000, stop_words=&#x27;english&#x27;)</pre></div></div></div></div></div>"
      ],
      "text/plain": [
       "CountVectorizer(max_features=10000, stop_words='english')"
      ]
     },
     "execution_count": 12,
     "metadata": {},
     "output_type": "execute_result"
    }
   ],
   "source": [
    "cv"
   ]
  },
  {
   "cell_type": "code",
   "execution_count": 13,
   "id": "4cf90d83-33bd-482d-b9bd-d2543a6779bb",
   "metadata": {},
   "outputs": [],
   "source": [
    "vector=cv.fit_transform(new_data['tags'].values.astype('U')).toarray()"
   ]
  },
  {
   "cell_type": "code",
   "execution_count": 14,
   "id": "ffecaa60-39b8-4452-b73f-b01a77177891",
   "metadata": {},
   "outputs": [
    {
     "data": {
      "text/plain": [
       "(18588, 10000)"
      ]
     },
     "execution_count": 14,
     "metadata": {},
     "output_type": "execute_result"
    }
   ],
   "source": [
    "vector.shape"
   ]
  },
  {
   "cell_type": "code",
   "execution_count": 15,
   "id": "53d766cd-77dd-45aa-a607-fe471b5852f7",
   "metadata": {},
   "outputs": [],
   "source": [
    "from sklearn.metrics.pairwise import cosine_similarity"
   ]
  },
  {
   "cell_type": "code",
   "execution_count": 16,
   "id": "d0d81127-5f87-4bb6-ab4f-86b4b45a47a3",
   "metadata": {},
   "outputs": [],
   "source": [
    "similarity=cosine_similarity(vector)"
   ]
  },
  {
   "cell_type": "code",
   "execution_count": 17,
   "id": "88a4199e-f282-4986-b7a1-e3c9650bf37b",
   "metadata": {},
   "outputs": [
    {
     "data": {
      "text/plain": [
       "array([[1.        , 0.40824829, 0.        , ..., 0.        , 0.        ,\n",
       "        0.        ],\n",
       "       [0.40824829, 1.        , 0.        , ..., 0.25      , 0.        ,\n",
       "        0.        ],\n",
       "       [0.        , 0.        , 1.        , ..., 0.        , 0.        ,\n",
       "        0.        ],\n",
       "       ...,\n",
       "       [0.        , 0.25      , 0.        , ..., 1.        , 0.        ,\n",
       "        0.        ],\n",
       "       [0.        , 0.        , 0.        , ..., 0.        , 1.        ,\n",
       "        0.        ],\n",
       "       [0.        , 0.        , 0.        , ..., 0.        , 0.        ,\n",
       "        1.        ]])"
      ]
     },
     "execution_count": 17,
     "metadata": {},
     "output_type": "execute_result"
    }
   ],
   "source": [
    "similarity"
   ]
  },
  {
   "cell_type": "code",
   "execution_count": 18,
   "id": "8a0dceae-63af-4449-bca9-3b830de7da33",
   "metadata": {},
   "outputs": [
    {
     "data": {
      "text/plain": [
       "2"
      ]
     },
     "execution_count": 18,
     "metadata": {},
     "output_type": "execute_result"
    }
   ],
   "source": [
    "new_data[new_data['title']==\"Dead by Daylight\"].index[0]"
   ]
  },
  {
   "cell_type": "code",
   "execution_count": 19,
   "id": "7d4d1a88-7e72-465f-b866-4cdf2bd41bce",
   "metadata": {},
   "outputs": [
    {
     "name": "stdout",
     "output_type": "stream",
     "text": [
      "Dead by Daylight\n",
      "BLACK CLOVER: QUARTET KNIGHTS\n",
      "Wild Guns Reloaded\n",
      "DisneyPixar Brave: The Video Game\n",
      "Hentai Shooter 3D\n"
     ]
    }
   ],
   "source": [
    "distance = sorted(list(enumerate(similarity[2])), reverse=True, key=lambda vector:vector[1])\n",
    "for i in distance[0:5]:\n",
    "    print(new_data.iloc[i[0]].title)"
   ]
  },
  {
   "cell_type": "code",
   "execution_count": 20,
   "id": "517da53f-a7bf-4d88-8050-80cce5167480",
   "metadata": {},
   "outputs": [],
   "source": [
    "def recommand(movies):\n",
    "    index=new_data[new_data['title']==movies].index[0]\n",
    "    distance = sorted(list(enumerate(similarity[index])), reverse=True, key=lambda vector:vector[1])\n",
    "    for i in distance[0:5]:\n",
    "        print(new_data.iloc[i[0]].title)"
   ]
  },
  {
   "cell_type": "code",
   "execution_count": 21,
   "id": "3618c90a-3fed-452e-a9ff-e17758742932",
   "metadata": {},
   "outputs": [
    {
     "name": "stdout",
     "output_type": "stream",
     "text": [
      "Insurgency: Sandstorm\n",
      "Insurgency\n",
      "Day of Infamy\n",
      "Nancy Drew®: Secret of the Scarlet Hand\n",
      "The Last Operator\n"
     ]
    }
   ],
   "source": [
    "recommand(\"Insurgency: Sandstorm\")"
   ]
  },
  {
   "cell_type": "code",
   "execution_count": 22,
   "id": "2981e35b-987f-46b0-a864-868de5a44c5f",
   "metadata": {},
   "outputs": [],
   "source": [
    "import pickle"
   ]
  },
  {
   "cell_type": "code",
   "execution_count": 23,
   "id": "ebfada56-9dda-4c4e-b1c8-7138b1e1291e",
   "metadata": {},
   "outputs": [],
   "source": [
    "pickle.dump(new_data, open('games_list.pkl', 'wb'))"
   ]
  },
  {
   "cell_type": "code",
   "execution_count": 24,
   "id": "c449e396-0c48-440b-bda8-b85bd92c715f",
   "metadata": {},
   "outputs": [],
   "source": [
    "pickle.dump(similarity, open('similarity.pkl', 'wb'))"
   ]
  },
  {
   "cell_type": "code",
   "execution_count": 25,
   "id": "714554ef-afab-47d8-8462-40a6cf9f8304",
   "metadata": {},
   "outputs": [
    {
     "data": {
      "text/html": [
       "<div>\n",
       "<style scoped>\n",
       "    .dataframe tbody tr th:only-of-type {\n",
       "        vertical-align: middle;\n",
       "    }\n",
       "\n",
       "    .dataframe tbody tr th {\n",
       "        vertical-align: top;\n",
       "    }\n",
       "\n",
       "    .dataframe thead th {\n",
       "        text-align: right;\n",
       "    }\n",
       "</style>\n",
       "<table border=\"1\" class=\"dataframe\">\n",
       "  <thead>\n",
       "    <tr style=\"text-align: right;\">\n",
       "      <th></th>\n",
       "      <th>id</th>\n",
       "      <th>title</th>\n",
       "      <th>tags</th>\n",
       "    </tr>\n",
       "  </thead>\n",
       "  <tbody>\n",
       "    <tr>\n",
       "      <th>0</th>\n",
       "      <td>1</td>\n",
       "      <td>Counter-Strike: Global Offensive</td>\n",
       "      <td>Valve;Hidden Path EntertainmentAction;Free to ...</td>\n",
       "    </tr>\n",
       "    <tr>\n",
       "      <th>1</th>\n",
       "      <td>2</td>\n",
       "      <td>Dota 2</td>\n",
       "      <td>ValveAction;Free to Play;Strategy</td>\n",
       "    </tr>\n",
       "    <tr>\n",
       "      <th>2</th>\n",
       "      <td>3</td>\n",
       "      <td>Dead by Daylight</td>\n",
       "      <td>Behaviour Digital Inc.Action</td>\n",
       "    </tr>\n",
       "    <tr>\n",
       "      <th>3</th>\n",
       "      <td>4</td>\n",
       "      <td>Warframe</td>\n",
       "      <td>Digital ExtremesAction;Free to Play</td>\n",
       "    </tr>\n",
       "    <tr>\n",
       "      <th>4</th>\n",
       "      <td>5</td>\n",
       "      <td>War Thunder</td>\n",
       "      <td>Gaijin EntertainmentAction;Free to Play;Massiv...</td>\n",
       "    </tr>\n",
       "    <tr>\n",
       "      <th>...</th>\n",
       "      <td>...</td>\n",
       "      <td>...</td>\n",
       "      <td>...</td>\n",
       "    </tr>\n",
       "    <tr>\n",
       "      <th>18583</th>\n",
       "      <td>18584</td>\n",
       "      <td>Malkia</td>\n",
       "      <td>Sports interactiveIndie</td>\n",
       "    </tr>\n",
       "    <tr>\n",
       "      <th>18584</th>\n",
       "      <td>18585</td>\n",
       "      <td>Rise</td>\n",
       "      <td>New StateAction;Indie</td>\n",
       "    </tr>\n",
       "    <tr>\n",
       "      <th>18585</th>\n",
       "      <td>18586</td>\n",
       "      <td>MERCS</td>\n",
       "      <td>Munchkin's LairIndie;Strategy;Early Access</td>\n",
       "    </tr>\n",
       "    <tr>\n",
       "      <th>18586</th>\n",
       "      <td>18587</td>\n",
       "      <td>Evil Genius</td>\n",
       "      <td>Elixir StudiosStrategy</td>\n",
       "    </tr>\n",
       "    <tr>\n",
       "      <th>18587</th>\n",
       "      <td>18588</td>\n",
       "      <td>Measurement Problem</td>\n",
       "      <td>Alchemist StudioAdventure;Indie</td>\n",
       "    </tr>\n",
       "  </tbody>\n",
       "</table>\n",
       "<p>18588 rows × 3 columns</p>\n",
       "</div>"
      ],
      "text/plain": [
       "          id                             title  \\\n",
       "0          1  Counter-Strike: Global Offensive   \n",
       "1          2                            Dota 2   \n",
       "2          3                  Dead by Daylight   \n",
       "3          4                          Warframe   \n",
       "4          5                       War Thunder   \n",
       "...      ...                               ...   \n",
       "18583  18584                            Malkia   \n",
       "18584  18585                              Rise   \n",
       "18585  18586                             MERCS   \n",
       "18586  18587                       Evil Genius   \n",
       "18587  18588               Measurement Problem   \n",
       "\n",
       "                                                    tags  \n",
       "0      Valve;Hidden Path EntertainmentAction;Free to ...  \n",
       "1                      ValveAction;Free to Play;Strategy  \n",
       "2                           Behaviour Digital Inc.Action  \n",
       "3                    Digital ExtremesAction;Free to Play  \n",
       "4      Gaijin EntertainmentAction;Free to Play;Massiv...  \n",
       "...                                                  ...  \n",
       "18583                            Sports interactiveIndie  \n",
       "18584                              New StateAction;Indie  \n",
       "18585         Munchkin's LairIndie;Strategy;Early Access  \n",
       "18586                             Elixir StudiosStrategy  \n",
       "18587                    Alchemist StudioAdventure;Indie  \n",
       "\n",
       "[18588 rows x 3 columns]"
      ]
     },
     "execution_count": 25,
     "metadata": {},
     "output_type": "execute_result"
    }
   ],
   "source": [
    "pickle.load(open('games_list.pkl', 'rb'))"
   ]
  },
  {
   "cell_type": "code",
   "execution_count": null,
   "id": "b8b80792-ee03-473f-a96c-245895adfd70",
   "metadata": {},
   "outputs": [],
   "source": []
  }
 ],
 "metadata": {
  "kernelspec": {
   "display_name": "Python 3 (ipykernel)",
   "language": "python",
   "name": "python3"
  },
  "language_info": {
   "codemirror_mode": {
    "name": "ipython",
    "version": 3
   },
   "file_extension": ".py",
   "mimetype": "text/x-python",
   "name": "python",
   "nbconvert_exporter": "python",
   "pygments_lexer": "ipython3",
   "version": "3.11.7"
  }
 },
 "nbformat": 4,
 "nbformat_minor": 5
}
